{
 "cells": [
  {
   "cell_type": "code",
   "execution_count": 1,
   "id": "00c9f9ef",
   "metadata": {},
   "outputs": [],
   "source": [
    "import pyomo.environ as pyEnv\n",
    "from time import process_time"
   ]
  },
  {
   "cell_type": "code",
   "execution_count": 2,
   "id": "7cfa6fc1",
   "metadata": {},
   "outputs": [],
   "source": [
    "t1_start = process_time() \n",
    "c_ij=[\n",
    "    [0,6,8,5,999999,999999,999999,999999],\n",
    "    [6,0,9,999999,999999,999999,8,999999],\n",
    "    [8,9,0,7,999999,10,20,999999],\n",
    "    [5,999999,7,0,22,999999,999999,999999],\n",
    "    [999999,999999,999999,22,0,999999,999999,9],\n",
    "    [999999,999999,10,999999,999999,0,7,4],\n",
    "    [999999,8,20,999999,999999,7,0,7],\n",
    "    [999999,999999,999999,999999,9,4,7,0]\n",
    "]"
   ]
  },
  {
   "cell_type": "code",
   "execution_count": 3,
   "id": "98197bf0",
   "metadata": {},
   "outputs": [
    {
     "name": "stdout",
     "output_type": "stream",
     "text": [
      "GLPSOL--GLPK LP/MIP Solver 5.0\n",
      "Parameter(s) specified in the command line:\n",
      " --write C:\\Users\\User\\AppData\\Local\\Temp\\tmpz61a9c_5.glpk.raw --wglp C:\\Users\\User\\AppData\\Local\\Temp\\tmpe4t5htgs.glpk.glp\n",
      " --cpxlp C:\\Users\\User\\AppData\\Local\\Temp\\tmphyk870k5.pyomo.lp\n",
      "Reading problem data from 'C:\\Users\\User\\AppData\\Local\\Temp\\tmphyk870k5.pyomo.lp'...\n",
      "C:\\Users\\User\\AppData\\Local\\Temp\\tmphyk870k5.pyomo.lp:591: warning: lower bound of variable 'x2' redefined\n",
      "C:\\Users\\User\\AppData\\Local\\Temp\\tmphyk870k5.pyomo.lp:591: warning: upper bound of variable 'x2' redefined\n",
      "67 rows, 65 columns, 261 non-zeros\n",
      "56 integer variables, all of which are binary\n",
      "647 lines were read\n",
      "Writing problem data to 'C:\\Users\\User\\AppData\\Local\\Temp\\tmpe4t5htgs.glpk.glp'...\n",
      "527 lines were written\n",
      "GLPK Integer Optimizer 5.0\n",
      "67 rows, 65 columns, 261 non-zeros\n",
      "56 integer variables, all of which are binary\n",
      "Preprocessing...\n",
      "7 constraint coefficient(s) were reduced\n",
      "65 rows, 63 columns, 252 non-zeros\n",
      "56 integer variables, all of which are binary\n",
      "Scaling...\n",
      " A: min|aij| =  1.000e+00  max|aij| =  7.000e+00  ratio =  7.000e+00\n",
      "Problem data seem to be well scaled\n",
      "Constructing initial basis...\n",
      "Size of triangular part is 64\n",
      "Solving LP relaxation...\n",
      "GLPK Simplex Optimizer 5.0\n",
      "65 rows, 63 columns, 252 non-zeros\n",
      "      0: obj =   6.000005000e+06 inf =   2.700e+01 (14)\n",
      "     16: obj =   2.142907190e+06 inf =   4.441e-16 (0)\n",
      "*    42: obj =   6.171428571e+01 inf =   3.489e-15 (0)\n",
      "OPTIMAL LP SOLUTION FOUND\n",
      "Integer optimization begins...\n",
      "Long-step dual simplex will be used\n",
      "+    42: mip =     not found yet >=              -inf        (1; 0)\n",
      "+    68: >>>>>   7.500000000e+01 >=   6.200000000e+01  17.3% (5; 0)\n",
      "+    94: >>>>>   7.200000000e+01 >=   6.500000000e+01   9.7% (4; 5)\n",
      "+   132: >>>>>   7.100000000e+01 >=   7.100000000e+01   0.0% (2; 12)\n",
      "+   132: mip =   7.100000000e+01 >=     tree is empty   0.0% (0; 17)\n",
      "INTEGER OPTIMAL SOLUTION FOUND\n",
      "Time used:   0.0 secs\n",
      "Memory used: 0.2 Mb (174333 bytes)\n",
      "Writing MIP solution to 'C:\\Users\\User\\AppData\\Local\\Temp\\tmpz61a9c_5.glpk.raw'...\n",
      "141 lines were written\n",
      "Tempo para execução do programa em segundos: 0.15625\n"
     ]
    }
   ],
   "source": [
    "#indices\n",
    "modelo = pyEnv.ConcreteModel()\n",
    "\n",
    "modelo.I = pyEnv.RangeSet(len([1,2,3,4,5,6,7,8]))\n",
    "modelo.J = pyEnv.RangeSet(len([1,2,3,4,5,6,7,8]))\n",
    "\n",
    "\n",
    "#Variáveis\n",
    "modelo.x_ij = pyEnv.Var(modelo.I,modelo.J,within = pyEnv.Binary)\n",
    "modelo.u = pyEnv.Var(modelo.I,within = pyEnv.NonNegativeReals)\n",
    "\n",
    "#parâmetros\n",
    "modelo.C_ij = pyEnv.Param(modelo.I,modelo.J,initialize = lambda modelo,i,j:c_ij[i-1][j -1])\n",
    "\n",
    "#Função objetivo\n",
    "def func_objetivo(modelo):\n",
    "    return sum(modelo.x_ij[i,j] * modelo.C_ij[i,j] for i in modelo.I for j in modelo.J)\n",
    "\n",
    "modelo.objetivo = pyEnv.Objective(rule = func_objetivo ,sense = pyEnv.minimize) \n",
    "\n",
    "\n",
    "def SomaI(modelo,j): \n",
    "    return   1  == sum(modelo.x_ij[i,j] for i in modelo.I if i != j )\n",
    "\n",
    "modelo.somaI = pyEnv.Constraint(modelo.J, rule = SomaI)    \n",
    "\n",
    "def SomaJ(modelo,i): \n",
    "    return   1  == sum(modelo.x_ij[i,j] for j in modelo.J if i != j )    \n",
    "\n",
    "modelo.somaJ = pyEnv.Constraint(modelo.I, rule = SomaJ) \n",
    "\n",
    "modelo.u[1] = 0\n",
    "modelo.u_0 = pyEnv.Constraint(expr = modelo.u[1]==0) \n",
    "\n",
    "def MTZ(modelo,i,j):\n",
    "   \n",
    "    if (j)>1 and i!=j :\n",
    "        return modelo.u[i] - modelo.u[j] + (len(modelo.I)-1)*modelo.x_ij[i,j] <= len(modelo.I)-1-1\n",
    "    else:\n",
    "        return pyEnv.Constraint.Skip\n",
    "modelo.mtz = pyEnv.Constraint(modelo.I,modelo.J, rule = MTZ)  \n",
    "\n",
    "#inicialização flyod\n",
    "modelo.x_ij[1,2] = 1\n",
    "modelo.x_ij[2,7] = 1\n",
    "modelo.x_ij[7,8] = 1\n",
    "\n",
    "solver = pyEnv.SolverFactory('glpk')\n",
    "resultado_objetivo = solver.solve(modelo,tee = True)\n",
    "t1_stop = process_time()\n",
    "print(\"Tempo para execução do programa em segundos:\", t1_stop-t1_start) "
   ]
  },
  {
   "cell_type": "code",
   "execution_count": 4,
   "id": "32752066",
   "metadata": {},
   "outputs": [
    {
     "name": "stdout",
     "output_type": "stream",
     "text": [
      "\n",
      "Problem: \n",
      "- Name: unknown\n",
      "  Lower bound: 71.0\n",
      "  Upper bound: 71.0\n",
      "  Number of objectives: 1\n",
      "  Number of constraints: 67\n",
      "  Number of variables: 65\n",
      "  Number of nonzeros: 261\n",
      "  Sense: minimize\n",
      "Solver: \n",
      "- Status: ok\n",
      "  Termination condition: optimal\n",
      "  Statistics: \n",
      "    Branch and bound: \n",
      "      Number of bounded subproblems: 17\n",
      "      Number of created subproblems: 17\n",
      "  Error rc: 0\n",
      "  Time: 0.08172178268432617\n",
      "Solution: \n",
      "- number of solutions: 0\n",
      "  number of solutions displayed: 0\n",
      "\n"
     ]
    }
   ],
   "source": [
    "print(resultado_objetivo)"
   ]
  },
  {
   "cell_type": "code",
   "execution_count": null,
   "id": "827fe53f",
   "metadata": {},
   "outputs": [],
   "source": []
  }
 ],
 "metadata": {
  "kernelspec": {
   "display_name": "Python 3",
   "language": "python",
   "name": "python3"
  },
  "language_info": {
   "codemirror_mode": {
    "name": "ipython",
    "version": 3
   },
   "file_extension": ".py",
   "mimetype": "text/x-python",
   "name": "python",
   "nbconvert_exporter": "python",
   "pygments_lexer": "ipython3",
   "version": "3.8.8"
  }
 },
 "nbformat": 4,
 "nbformat_minor": 5
}
